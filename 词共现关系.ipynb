{
 "cells": [
  {
   "cell_type": "code",
   "execution_count": null,
   "metadata": {},
   "outputs": [],
   "source": [
    "%matplotlib inline\n",
    "import networkx as nx\n",
    "import matplotlib.cm as cm\n",
    "import matplotlib.pyplot as plt\n",
    "import pandas as pd\n",
    "#1.read document\n",
    "data = pd.read_csv('文博.csv', encoding='utf8')\n",
    "count = {}\n",
    "print('Raw size:', len(data))\n",
    "keyword_column = data['Keyword-关键词'].dropna()\n",
    "print('Raw size:', len(keyword_column))\n",
    "\n",
    "#2.edit document\n",
    "keyword_list = set()\n",
    "for keyword in keyword_column:\n",
    "    keyword = keyword.strip(';;').strip(',')\n",
    "    keyword = keyword.split(';;') if ';;' in keyword else keyword.split(',')\n",
    "    for i in range(len(keyword)):\n",
    "        for j in range(i+1, len(keyword)):\n",
    "            count.setdefault((keyword[i], keyword[j]), 0)\n",
    "            count[(keyword[i], keyword[j])] += 1\n",
    "        keyword_list.add(keyword[i])\n",
    "keyword_list = list(keyword_list)\n",
    "print('Total keywords:', len(keyword_list))\n",
    "#3. write csv\n",
    "with open('output_graph.csv', 'w', encoding='utf8') as f:\n",
    "    for pair, times in count.items():\n",
    "        f.write(f'{pair[0]},{pair[1]},{times}\\n’)\n",
    "#4. plot graph \n",
    "g = nx.Graph()\n",
    "\n",
    "for pair, times in count.items():\n",
    "    g.add_edge(pair[0], pair[1])\n",
    "    \n",
    "nx.draw(g, node_size=1)\n",
    "plt.savefig('output_fig.eps')\n"
   ]
  }
 ],
 "metadata": {
  "kernelspec": {
   "display_name": "Python 3",
   "language": "python",
   "name": "python3"
  },
  "language_info": {
   "codemirror_mode": {
    "name": "ipython",
    "version": 3
   },
   "file_extension": ".py",
   "mimetype": "text/x-python",
   "name": "python",
   "nbconvert_exporter": "python",
   "pygments_lexer": "ipython3",
   "version": "3.6.4"
  }
 },
 "nbformat": 4,
 "nbformat_minor": 2
}
